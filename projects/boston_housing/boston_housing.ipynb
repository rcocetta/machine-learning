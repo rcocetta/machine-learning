{
 "cells": [
  {
   "cell_type": "markdown",
   "metadata": {},
   "source": [
    "# Machine Learning Engineer Nanodegree\n",
    "## Model Evaluation & Validation\n",
    "## Project: Predicting Boston Housing Prices\n",
    "\n",
    "Welcome to the first project of the Machine Learning Engineer Nanodegree! In this notebook, some template code has already been provided for you, and you will need to implement additional functionality to successfully complete this project. You will not need to modify the included code beyond what is requested. Sections that begin with **'Implementation'** in the header indicate that the following block of code will require additional functionality which you must provide. Instructions will be provided for each section and the specifics of the implementation are marked in the code block with a 'TODO' statement. Please be sure to read the instructions carefully!\n",
    "\n",
    "In addition to implementing code, there will be questions that you must answer which relate to the project and your implementation. Each section where you will answer a question is preceded by a **'Question X'** header. Carefully read each question and provide thorough answers in the following text boxes that begin with **'Answer:'**. Your project submission will be evaluated based on your answers to each of the questions and the implementation you provide.  \n",
    "\n",
    ">**Note:** Code and Markdown cells can be executed using the **Shift + Enter** keyboard shortcut. In addition, Markdown cells can be edited by typically double-clicking the cell to enter edit mode."
   ]
  },
  {
   "cell_type": "markdown",
   "metadata": {},
   "source": [
    "## Getting Started\n",
    "In this project, you will evaluate the performance and predictive power of a model that has been trained and tested on data collected from homes in suburbs of Boston, Massachusetts. A model trained on this data that is seen as a *good fit* could then be used to make certain predictions about a home — in particular, its monetary value. This model would prove to be invaluable for someone like a real estate agent who could make use of such information on a daily basis.\n",
    "\n",
    "The dataset for this project originates from the [UCI Machine Learning Repository](https://archive.ics.uci.edu/ml/datasets/Housing). The Boston housing data was collected in 1978 and each of the 506 entries represent aggregated data about 14 features for homes from various suburbs in Boston, Massachusetts. For the purposes of this project, the following preprocessing steps have been made to the dataset:\n",
    "- 16 data points have an `'MEDV'` value of 50.0. These data points likely contain **missing or censored values** and have been removed.\n",
    "- 1 data point has an `'RM'` value of 8.78. This data point can be considered an **outlier** and has been removed.\n",
    "- The features `'RM'`, `'LSTAT'`, `'PTRATIO'`, and `'MEDV'` are essential. The remaining **non-relevant features** have been excluded.\n",
    "- The feature `'MEDV'` has been **multiplicatively scaled** to account for 35 years of market inflation.\n",
    "\n",
    "Run the code cell below to load the Boston housing dataset, along with a few of the necessary Python libraries required for this project. You will know the dataset loaded successfully if the size of the dataset is reported."
   ]
  },
  {
   "cell_type": "code",
<<<<<<< HEAD
   "execution_count": 1,
   "metadata": {},
   "outputs": [
    {
     "name": "stderr",
     "output_type": "stream",
     "text": [
      "/Users/r.cocetta/anaconda2/lib/python2.7/site-packages/sklearn/cross_validation.py:41: DeprecationWarning: This module was deprecated in version 0.18 in favor of the model_selection module into which all the refactored classes and functions are moved. Also note that the interface of the new CV iterators are different from that of this module. This module will be removed in 0.20.\n",
      "  \"This module will be removed in 0.20.\", DeprecationWarning)\n"
     ]
    },
    {
     "name": "stdout",
     "output_type": "stream",
     "text": [
      "Boston housing dataset has 489 data points with 4 variables each.\n"
     ]
    },
    {
     "name": "stderr",
     "output_type": "stream",
     "text": [
      "/Users/r.cocetta/anaconda2/lib/python2.7/site-packages/sklearn/learning_curve.py:22: DeprecationWarning: This module was deprecated in version 0.18 in favor of the model_selection module into which all the functions are moved. This module will be removed in 0.20\n",
      "  DeprecationWarning)\n"
     ]
    }
   ],
=======
   "execution_count": null,
   "metadata": {},
   "outputs": [],
>>>>>>> 1baaec7cad07065df94e0cad830925d7e53c5af7
   "source": [
    "# Import libraries necessary for this project\n",
    "import numpy as np\n",
    "import pandas as pd\n",
    "from sklearn.cross_validation import ShuffleSplit\n",
    "\n",
    "# Import supplementary visualizations code visuals.py\n",
    "import visuals as vs\n",
    "\n",
    "# Pretty display for notebooks\n",
    "%matplotlib inline\n",
    "\n",
    "# Load the Boston housing dataset\n",
    "data = pd.read_csv('housing.csv')\n",
    "prices = data['MEDV']\n",
    "features = data.drop('MEDV', axis = 1)\n",
    "    \n",
    "# Success\n",
    "print(\"Boston housing dataset has {} data points with {} variables each.\".format(*data.shape))"
   ]
  },
  {
   "cell_type": "markdown",
   "metadata": {},
   "source": [
    "## Data Exploration\n",
    "In this first section of this project, you will make a cursory investigation about the Boston housing data and provide your observations. Familiarizing yourself with the data through an explorative process is a fundamental practice to help you better understand and justify your results.\n",
    "\n",
    "Since the main goal of this project is to construct a working model which has the capability of predicting the value of houses, we will need to separate the dataset into **features** and the **target variable**. The **features**, `'RM'`, `'LSTAT'`, and `'PTRATIO'`, give us quantitative information about each data point. The **target variable**, `'MEDV'`, will be the variable we seek to predict. These are stored in `features` and `prices`, respectively."
   ]
  },
  {
   "cell_type": "markdown",
   "metadata": {},
   "source": [
    "### Implementation: Calculate Statistics\n",
    "For your very first coding implementation, you will calculate descriptive statistics about the Boston housing prices. Since `numpy` has already been imported for you, use this library to perform the necessary calculations. These statistics will be extremely important later on to analyze various prediction results from the constructed model.\n",
    "\n",
    "In the code cell below, you will need to implement the following:\n",
    "- Calculate the minimum, maximum, mean, median, and standard deviation of `'MEDV'`, which is stored in `prices`.\n",
    "  - Store each calculation in their respective variable."
   ]
  },
  {
   "cell_type": "code",
<<<<<<< HEAD
   "execution_count": 2,
   "metadata": {},
   "outputs": [
    {
     "name": "stdout",
     "output_type": "stream",
     "text": [
      "Statistics for Boston housing dataset:\n",
      "\n",
      "Minimum price: $105,000.00\n",
      "Maximum price: $1,024,800.00\n",
      "Mean price: $454,342.94\n",
      "Median price $438,900.00\n",
      "Standard deviation of prices: $165,171.13\n"
     ]
    }
   ],
=======
   "execution_count": null,
   "metadata": {},
   "outputs": [],
>>>>>>> 1baaec7cad07065df94e0cad830925d7e53c5af7
   "source": [
    "# TODO: Minimum price of the data\n",
    "minimum_price = np.amin(prices)\n",
    "\n",
    "# TODO: Maximum price of the data\n",
    "maximum_price = np.amax(prices)\n",
    "\n",
    "# TODO: Mean price of the data\n",
    "mean_price = np.mean(prices)\n",
    "\n",
    "# TODO: Median price of the data\n",
    "median_price = np.median(prices)\n",
    "\n",
    "# TODO: Standard deviation of prices of the data\n",
    "std_price = np.std(prices)\n",
    "\n",
    "# Show the calculated statistics\n",
<<<<<<< HEAD
    "print \"Statistics for Boston housing dataset:\\n\"\n",
    "print \"Minimum price: ${:,.2f}\".format(minimum_price)\n",
    "print \"Maximum price: ${:,.2f}\".format(maximum_price)\n",
    "print \"Mean price: ${:,.2f}\".format(mean_price)\n",
    "print \"Median price ${:,.2f}\".format(median_price)\n",
    "print \"Standard deviation of prices: ${:,.2f}\".format(std_price)\n",
    "\n"
=======
    "print(\"Statistics for Boston housing dataset:\\n\")\n",
    "print(\"Minimum price: ${}\".format(minimum_price)) \n",
    "print(\"Maximum price: ${}\".format(maximum_price))\n",
    "print(\"Mean price: ${}\".format(mean_price))\n",
    "print(\"Median price ${}\".format(median_price))\n",
    "print(\"Standard deviation of prices: ${}\".format(std_price))"
>>>>>>> 1baaec7cad07065df94e0cad830925d7e53c5af7
   ]
  },
  {
   "cell_type": "markdown",
   "metadata": {},
   "source": [
    "### Question 1 - Feature Observation\n",
    "As a reminder, we are using three features from the Boston housing dataset: `'RM'`, `'LSTAT'`, and `'PTRATIO'`. For each data point (neighborhood):\n",
    "- `'RM'` is the average number of rooms among homes in the neighborhood.\n",
    "- `'LSTAT'` is the percentage of homeowners in the neighborhood considered \"lower class\" (working poor).\n",
    "- `'PTRATIO'` is the ratio of students to teachers in primary and secondary schools in the neighborhood.\n",
    "\n",
    "\n",
    "** Using your intuition, for each of the three features above, do you think that an increase in the value of that feature would lead to an **increase** in the value of `'MEDV'` or a **decrease** in the value of `'MEDV'`? Justify your answer for each.**\n",
    "\n",
    "**Hint:** This problem can phrased using examples like below.  \n",
    "* Would you expect a home that has an `'RM'` value(number of rooms) of 6 be worth more or less than a home that has an `'RM'` value of 7?\n",
    "* Would you expect a neighborhood that has an `'LSTAT'` value(percent of lower class workers) of 15 have home prices be worth more or less than a neighborhood that has an `'LSTAT'` value of 20?\n",
    "* Would you expect a neighborhood that has an `'PTRATIO'` value(ratio of students to teachers) of 10 have home prices be worth more or less than a neighborhood that has an `'PTRATIO'` value of 15?"
   ]
  },
  {
   "cell_type": "markdown",
   "metadata": {},
   "source": [
    "**Answer: ** \n",
    "I would expect the value of properties to increase with the number of `RM` as a bigger number of rooms means a house that is more appealing to bigger families (even though this might not be matched by the actual house size). \n",
    "\n",
    "An increase in `LSTAT` instead will reduce the value of the house. There is a direct relation with the market value of the house: if lower class workers could afford the houses, the cost must be lower, also there's a preconception that sees working class dense areas as usually rougher and with less opportunities than middle classs areas, and this will keep the price down.\n",
    "\n",
    "\n",
    "`PTRATIO` is a bit harder to read because there might be many factors affecting it, such as density of the population, but I would expect that the lower it is the higher is the house prices. This idea is because people would expect their children to have better education if classes aren't overcrowded. We can investigate this but looking at the correlation between `PTRATIO` and `MEDV` in the next cell."
   ]
  },
  {
   "cell_type": "code",
   "execution_count": 3,
   "metadata": {},
   "outputs": [
    {
     "name": "stdout",
     "output_type": "stream",
     "text": [
      "The correlation between prices and PV: -0.52\n"
     ]
    }
   ],
   "source": [
    "from scipy.stats import pearsonr\n",
    "\n",
    "print \"The correlation between prices and PV: {:,.2f}\".format(pearsonr(data['PTRATIO'], data['MEDV'])[0])\n",
    "\n"
   ]
  },
  {
   "cell_type": "markdown",
   "metadata": {},
   "source": [
    "A correlation of -0.52 shows a moderate downhill relationship, confirming the intuition, but not in a strong way.\n"
   ]
  },
  {
   "cell_type": "markdown",
   "metadata": {},
   "source": [
    "----\n",
    "\n",
    "## Developing a Model\n",
    "In this second section of the project, you will develop the tools and techniques necessary for a model to make a prediction. Being able to make accurate evaluations of each model's performance through the use of these tools and techniques helps to greatly reinforce the confidence in your predictions."
   ]
  },
  {
   "cell_type": "markdown",
   "metadata": {},
   "source": [
    "### Implementation: Define a Performance Metric\n",
    "It is difficult to measure the quality of a given model without quantifying its performance over training and testing. This is typically done using some type of performance metric, whether it is through calculating some type of error, the goodness of fit, or some other useful measurement. For this project, you will be calculating the [*coefficient of determination*](http://stattrek.com/statistics/dictionary.aspx?definition=coefficient_of_determination), R<sup>2</sup>, to quantify your model's performance. The coefficient of determination for a model is a useful statistic in regression analysis, as it often describes how \"good\" that model is at making predictions. \n",
    "\n",
    "The values for R<sup>2</sup> range from 0 to 1, which captures the percentage of squared correlation between the predicted and actual values of the **target variable**. A model with an R<sup>2</sup> of 0 is no better than a model that always predicts the *mean* of the target variable, whereas a model with an R<sup>2</sup> of 1 perfectly predicts the target variable. Any value between 0 and 1 indicates what percentage of the target variable, using this model, can be explained by the **features**. _A model can be given a negative R<sup>2</sup> as well, which indicates that the model is **arbitrarily worse** than one that always predicts the mean of the target variable._\n",
    "\n",
    "For the `performance_metric` function in the code cell below, you will need to implement the following:\n",
    "- Use `r2_score` from `sklearn.metrics` to perform a performance calculation between `y_true` and `y_predict`.\n",
    "- Assign the performance score to the `score` variable."
   ]
  },
  {
   "cell_type": "code",
   "execution_count": 4,
   "metadata": {
    "collapsed": true
   },
   "outputs": [],
   "source": [
    "# TODO: Import 'r2_score'\n",
    "from sklearn.metrics import r2_score\n",
    "\n",
    "def performance_metric(y_true, y_predict):\n",
    "    \"\"\" Calculates and returns the performance score between \n",
    "        true and predicted values based on the metric chosen. \"\"\"\n",
    "    \n",
    "    # TODO: Calculate the performance score between 'y_true' and 'y_predict'\n",
    "    score = r2_score(y_true, y_predict)\n",
    "    \n",
    "    # Return the score\n",
    "    return score"
   ]
  },
  {
   "cell_type": "markdown",
   "metadata": {},
   "source": [
    "### Question 2 - Goodness of Fit\n",
    "Assume that a dataset contains five data points and a model made the following predictions for the target variable:\n",
    "\n",
    "| True Value | Prediction |\n",
    "| :-------------: | :--------: |\n",
    "| 3.0 | 2.5 |\n",
    "| -0.5 | 0.0 |\n",
    "| 2.0 | 2.1 |\n",
    "| 7.0 | 7.8 |\n",
    "| 4.2 | 5.3 |\n",
    "\n",
    "Run the code cell below to use the `performance_metric` function and calculate this model's coefficient of determination."
   ]
  },
  {
   "cell_type": "code",
   "execution_count": 5,
   "metadata": {},
   "outputs": [
    {
     "name": "stdout",
     "output_type": "stream",
     "text": [
      "Model has a coefficient of determination, R^2, of 0.923.\n"
     ]
    }
   ],
   "source": [
    "# Calculate the performance of this model\n",
    "score = performance_metric([3, -0.5, 2, 7, 4.2], [2.5, 0.0, 2.1, 7.8, 5.3])\n",
    "print(\"Model has a coefficient of determination, R^2, of {:.3f}.\".format(score))"
   ]
  },
  {
   "cell_type": "markdown",
   "metadata": {},
   "source": [
    "* Would you consider this model to have successfully captured the variation of the target variable? \n",
    "* Why or why not?\n",
    "\n",
    "** Hint: **  The R2 score is the proportion of the variance in the dependent variable that is predictable from the independent variable. In other words:\n",
    "* R2 score of 0 means that the dependent variable cannot be predicted from the independent variable.\n",
    "* R2 score of 1 means the dependent variable can be predicted from the independent variable.\n",
    "* R2 score between 0 and 1 indicates the extent to which the dependent variable is predictable. An \n",
    "* R2 score of 0.40 means that 40 percent of the variance in Y is predictable from X."
   ]
  },
  {
   "cell_type": "markdown",
   "metadata": {},
   "source": [
    "**Answer:** The R2 score is 0.923 this seems to be a good model because its score is close to 1, 92% of the variance in Y is predictable from X\n"
   ]
  },
  {
   "cell_type": "markdown",
   "metadata": {},
   "source": [
    "### Implementation: Shuffle and Split Data\n",
    "Your next implementation requires that you take the Boston housing dataset and split the data into training and testing subsets. Typically, the data is also shuffled into a random order when creating the training and testing subsets to remove any bias in the ordering of the dataset.\n",
    "\n",
    "For the code cell below, you will need to implement the following:\n",
    "- Use `train_test_split` from `sklearn.cross_validation` to shuffle and split the `features` and `prices` data into training and testing sets.\n",
    "  - Split the data into 80% training and 20% testing.\n",
    "  - Set the `random_state` for `train_test_split` to a value of your choice. This ensures results are consistent.\n",
    "- Assign the train and testing splits to `X_train`, `X_test`, `y_train`, and `y_test`."
   ]
  },
  {
   "cell_type": "code",
   "execution_count": 6,
   "metadata": {},
   "outputs": [
    {
     "name": "stdout",
     "output_type": "stream",
     "text": [
      "Training and testing split was successful.\n"
     ]
    },
    {
     "name": "stderr",
     "output_type": "stream",
     "text": [
      "/Users/r.cocetta/anaconda2/lib/python2.7/site-packages/sklearn/model_selection/_split.py:2026: FutureWarning: From version 0.21, test_size will always complement train_size unless both are specified.\n",
      "  FutureWarning)\n"
     ]
    }
   ],
   "source": [
    "# TODO: Import 'train_test_split'\n",
    "from sklearn.model_selection import train_test_split\n",
    "\n",
    "# TODO: Shuffle and split the data into training and testing subsets\n",
    "X_train, X_test, y_train, y_test = train_test_split(features, prices, random_state=3, train_size=0.8)\n",
    "\n",
    "# Success\n",
    "print(\"Training and testing split was successful.\")"
   ]
  },
  {
   "cell_type": "markdown",
   "metadata": {},
   "source": [
    "### Question 3 - Training and Testing\n",
    "\n",
    "* What is the benefit to splitting a dataset into some ratio of training and testing subsets for a learning algorithm?\n",
    "\n",
    "**Hint:** Think about how overfitting or underfitting is contingent upon how splits on data is done."
   ]
  },
  {
   "cell_type": "markdown",
   "metadata": {},
   "source": [
    "**Answer: ** \n",
    "We split a dataset into training and testing sets because we want to be able to use the data we already have to both learn and create our model and then use some of the data to check that our model is correct, without having to wait for new data to arrive to do so.\n",
    "\n",
    "Usual percentages for the split are 80-20 or 70-30. \n",
    "\n",
    "Having enough data in the training set allows us to build a model that doesn't underfit (it isn't able to predict the data because it doesn't represent the problem enough) the problem, whereas having a big enough testing set allows us to check that our model doesn't overfit (adheres to the training set but it isn't useful to be applied to other data representing the same problem). \n"
   ]
  },
  {
   "cell_type": "markdown",
   "metadata": {},
   "source": [
    "----\n",
    "\n",
    "## Analyzing Model Performance\n",
    "In this third section of the project, you'll take a look at several models' learning and testing performances on various subsets of training data. Additionally, you'll investigate one particular algorithm with an increasing `'max_depth'` parameter on the full training set to observe how model complexity affects performance. Graphing your model's performance based on varying criteria can be beneficial in the analysis process, such as visualizing behavior that may not have been apparent from the results alone."
   ]
  },
  {
   "cell_type": "markdown",
   "metadata": {},
   "source": [
    "### Learning Curves\n",
    "The following code cell produces four graphs for a decision tree model with different maximum depths. Each graph visualizes the learning curves of the model for both training and testing as the size of the training set is increased. Note that the shaded region of a learning curve denotes the uncertainty of that curve (measured as the standard deviation). The model is scored on both the training and testing sets using R<sup>2</sup>, the coefficient of determination.  \n",
    "\n",
    "Run the code cell below and use these graphs to answer the following question."
   ]
  },
  {
   "cell_type": "code",
   "execution_count": 7,
   "metadata": {
    "scrolled": false
   },
   "outputs": [
    {
     "data": {
      "image/png": "iVBORw0KGgoAAAANSUhEUgAAA0AAAAIKCAYAAAAK1y/8AAAABHNCSVQICAgIfAhkiAAAAAlwSFlz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\n/A8AkgH8uosqgAAAAABJRU5ErkJggg==\n",
      "text/plain": [
       "<matplotlib.figure.Figure at 0x10dd28310>"
      ]
     },
     "metadata": {},
     "output_type": "display_data"
    }
   ],
   "source": [
    "# Produce learning curves for varying training set sizes and maximum depths\n",
    "vs.ModelLearning(features, prices)"
   ]
  },
  {
   "cell_type": "markdown",
   "metadata": {},
   "source": [
    "### Question 4 - Learning the Data\n",
    "* Choose one of the graphs above and state the maximum depth for the model. \n",
    "* What happens to the score of the training curve as more training points are added? What about the testing curve? \n",
    "* Would having more training points benefit the model? \n",
    "\n",
    "**Hint:** Are the learning curves converging to particular scores? Generally speaking, the more data you have, the better. But if your training and testing curves are converging with a score above your benchmark threshold, would this be necessary?\n",
    "Think about the pros and cons of adding more training points based on if the training and testing curves are converging."
   ]
  },
  {
   "cell_type": "markdown",
   "metadata": {},
   "source": [
    "**Answer: ** \n",
    "Considering the graph with `max_depth=3`, we can see that with very little data in the training set  the training score is very high (near 1), and the validation curve is very low (near 0). \n",
    "\n",
    "The more training data we add the more we can see that the training score lowers, and the testing score improves. This happens because while it is harder to catch all the nuances in the training set, the model becomes more accurate in modeling the problem (through training), so it becomes better in classifying data points in the validation set. \n",
    "\n",
    "It's possible to see that asymptotically the 2 curves tend to the same value, which means we have reached a good trade off between representation of the training set and representation of the validation set: no underfitting, no overfitting. The model represents the training set as well as the validation set.\n",
    "\n",
    "Towards 350 points, the 2 curves are very close, and don't seem to improve adding datapoints.We have 506 data points so we wouldn't benefit from more data points.\n",
    "\n"
   ]
  },
  {
   "cell_type": "markdown",
   "metadata": {},
   "source": [
    "### Complexity Curves\n",
    "The following code cell produces a graph for a decision tree model that has been trained and validated on the training data using different maximum depths. The graph produces two complexity curves — one for training and one for validation. Similar to the **learning curves**, the shaded regions of both the complexity curves denote the uncertainty in those curves, and the model is scored on both the training and validation sets using the `performance_metric` function.  \n",
    "\n",
    "** Run the code cell below and use this graph to answer the following two questions Q5 and Q6. **"
   ]
  },
  {
   "cell_type": "code",
<<<<<<< HEAD
   "execution_count": 8,
   "metadata": {},
   "outputs": [
    {
     "data": {
      "image/png": "iVBORw0KGgoAAAANSUhEUgAAAb0AAAFNCAYAAACUvLFdAAAABHNCSVQICAgIfAhkiAAAAAlwSFlz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\n",
      "text/plain": [
       "<matplotlib.figure.Figure at 0x10e4cb390>"
      ]
     },
     "metadata": {},
     "output_type": "display_data"
    }
   ],
=======
   "execution_count": null,
   "metadata": {},
   "outputs": [],
>>>>>>> 1baaec7cad07065df94e0cad830925d7e53c5af7
   "source": [
    "vs.ModelComplexity(X_train, y_train)"
   ]
  },
  {
   "cell_type": "markdown",
   "metadata": {},
   "source": [
    "### Question 5 - Bias-Variance Tradeoff\n",
    "* When the model is trained with a maximum depth of 1, does the model suffer from high bias or from high variance? \n",
    "* How about when the model is trained with a maximum depth of 10? What visual cues in the graph justify your conclusions?\n",
    "\n",
    "**Hint:** High bias is a sign of underfitting(model is not complex enough to pick up the nuances in the data) and high variance is a sign of overfitting(model is by-hearting the data and cannot generalize well). Think about which model(depth 1 or 10) aligns with which part of the tradeoff."
   ]
  },
  {
   "cell_type": "markdown",
   "metadata": {},
   "source": [
    "**Answer: ** With a maximum depth of 1 the model seems to suffer from high bias as the training score is quite low.\n",
    "When the model is trainied with a max depth of 10 though we see an increase in the score of the training set, but a decrease in the validation score, hence we have a model that suffers of high variance."
   ]
  },
  {
   "cell_type": "markdown",
   "metadata": {},
   "source": [
    "### Question 6 - Best-Guess Optimal Model\n",
    "* Which maximum depth do you think results in a model that best generalizes to unseen data? \n",
    "* What intuition lead you to this answer?\n",
    "\n",
    "** Hint: ** Look at the graph above Question 5 and see where the validation scores lie for the various depths that have been assigned to the model. Does it get better with increased depth? At what point do we get our best validation score without overcomplicating our model? And remember, Occams Razor states \"Among competing hypotheses, the one with the fewest assumptions should be selected.\""
   ]
  },
  {
   "cell_type": "markdown",
   "metadata": {},
   "source": [
    "**Answer: ** Maximum depth of 3 seems to be the what best generalizes the data. We can see that we have a maximum for the validation score in the graph, and that after 3 that score begins to decrease.\n"
   ]
  },
  {
   "cell_type": "markdown",
   "metadata": {},
   "source": [
    "-----\n",
    "\n",
    "## Evaluating Model Performance\n",
    "In this final section of the project, you will construct a model and make a prediction on the client's feature set using an optimized model from `fit_model`."
   ]
  },
  {
   "cell_type": "markdown",
   "metadata": {},
   "source": [
    "### Question 7 - Grid Search\n",
    "* What is the grid search technique?\n",
    "* How it can be applied to optimize a learning algorithm?\n",
    "\n",
    "** Hint: ** When explaining the Grid Search technique, be sure to touch upon why it is used,  what the 'grid' entails and what the end goal of this method is. To solidify your answer, you can also give an example of a parameter in a model that can be optimized using this approach."
   ]
  },
  {
   "cell_type": "markdown",
   "metadata": {},
   "source": [
    "**Answer: **\n",
    "In grid search, a table with hyperparameters that drive the customisation of a model as rows and cols, is built and used to find the best fitting model to our problem. An F1 score can be used in the cell of the table as an indicator of goodness of the parameters combinations."
   ]
  },
  {
   "cell_type": "markdown",
   "metadata": {},
   "source": [
    "### Question 8 - Cross-Validation\n",
    "\n",
    "* What is the k-fold cross-validation training technique? \n",
    "\n",
    "* What benefit does this technique provide for grid search when optimizing a model?\n",
    "\n",
    "**Hint:** When explaining the k-fold cross validation technique, be sure to touch upon what 'k' is, how the dataset is split into different parts for training and testing and the number of times it is run based on the 'k' value.\n",
    "\n",
    "When thinking about how k-fold cross validation helps grid search, think about the main drawbacks of grid search which are hinged upon **using a particular subset of data for training or testing** and how k-fold cv could help alleviate that. You can refer to the [docs](http://scikit-learn.org/stable/modules/cross_validation.html#cross-validation) for your answer."
   ]
  },
  {
   "cell_type": "markdown",
   "metadata": {},
   "source": [
    "**Answer: ** \n",
    "The k-fold cross-validation is a cross-validation technique in which we split the entire dataset in `k` subsets and then we cross-validate our model `k` times, using at each time `k-1` subsets as training data and `1` subset as test data.\n",
    "\n",
    "Every subset is used `k` times, `1` as validation data, and `k-1` as training data.\n",
    "\n",
    "The error rates for each subset are then averaged to have a single estimation.\n",
    "\n",
    "This allows us to use the entire training set to train and validate model, so that we  don't have to break off a piece of our training set for validation purposes only.\n",
    "\n",
    "K-fold cross-validation helps Grid Search because the value of evaluation metrics will be less biased by the composition of the sets, as we basically rotate `k` times the training dataset as training or validation data.\n",
    "\n",
    "Were we not to use a k-fold approach, we would lose some of the information in our training set,  and reduce further the part of the split (training, validation, test) of our entire dataset that we use in the training of our model, increasing the bias due to the composition of the training set."
   ]
  },
  {
   "cell_type": "markdown",
   "metadata": {},
   "source": [
    "### Implementation: Fitting a Model\n",
    "Your final implementation requires that you bring everything together and train a model using the **decision tree algorithm**. To ensure that you are producing an optimized model, you will train the model using the grid search technique to optimize the `'max_depth'` parameter for the decision tree. The `'max_depth'` parameter can be thought of as how many questions the decision tree algorithm is allowed to ask about the data before making a prediction. Decision trees are part of a class of algorithms called *supervised learning algorithms*.\n",
    "\n",
    "In addition, you will find your implementation is using `ShuffleSplit()` for an alternative form of cross-validation (see the `'cv_sets'` variable). While it is not the K-Fold cross-validation technique you describe in **Question 8**, this type of cross-validation technique is just as useful!. The `ShuffleSplit()` implementation below will create 10 (`'n_splits'`) shuffled sets, and for each shuffle, 20% (`'test_size'`) of the data will be used as the *validation set*. While you're working on your implementation, think about the contrasts and similarities it has to the K-fold cross-validation technique.\n",
    "\n",
    "Please note that ShuffleSplit has different parameters in scikit-learn versions 0.17 and 0.18.\n",
    "For the `fit_model` function in the code cell below, you will need to implement the following:\n",
    "- Use [`DecisionTreeRegressor`](http://scikit-learn.org/stable/modules/generated/sklearn.tree.DecisionTreeRegressor.html) from `sklearn.tree` to create a decision tree regressor object.\n",
    "  - Assign this object to the `'regressor'` variable.\n",
    "- Create a dictionary for `'max_depth'` with the values from 1 to 10, and assign this to the `'params'` variable.\n",
    "- Use [`make_scorer`](http://scikit-learn.org/stable/modules/generated/sklearn.metrics.make_scorer.html) from `sklearn.metrics` to create a scoring function object.\n",
    "  - Pass the `performance_metric` function as a parameter to the object.\n",
    "  - Assign this scoring function to the `'scoring_fnc'` variable.\n",
    "- Use [`GridSearchCV`](http://scikit-learn.org/0.17/modules/generated/sklearn.grid_search.GridSearchCV.html) from `sklearn.grid_search` to create a grid search object.\n",
    "  - Pass the variables `'regressor'`, `'params'`, `'scoring_fnc'`, and `'cv_sets'` as parameters to the object. \n",
    "  - Assign the `GridSearchCV` object to the `'grid'` variable."
   ]
  },
  {
   "cell_type": "code",
   "execution_count": 9,
   "metadata": {
    "collapsed": true
   },
   "outputs": [],
   "source": [
    "from sklearn.tree import DecisionTreeRegressor\n",
    "from sklearn.metrics import make_scorer\n",
    "from sklearn.model_selection import GridSearchCV\n",
    "from sklearn.model_selection import ShuffleSplit\n",
    "\n",
    "def fit_model(X, y): \n",
    "    \"\"\" Performs grid search over the 'max_depth' parameter for a decision tree regressor trained on the input data [X, y]. \"\"\"\n",
    "\n",
    "    cv_sets = ShuffleSplit(n_splits=10, test_size = .20, random_state = 0)\n",
    "    regressor = DecisionTreeRegressor()\n",
    "    params = {'max_depth': range(1, 11)}\n",
    "    scoring_fnc = make_scorer(performance_metric)\n",
    "    grid = GridSearchCV(regressor, params, scoring=scoring_fnc, cv=cv_sets)\n",
    "    grid = grid.fit(X, y)\n",
    "\n",
    "    return grid.best_estimator_"
   ]
  },
  {
   "cell_type": "markdown",
   "metadata": {},
   "source": [
    "### Making Predictions\n",
    "Once a model has been trained on a given set of data, it can now be used to make predictions on new sets of input data. In the case of a *decision tree regressor*, the model has learned *what the best questions to ask about the input data are*, and can respond with a prediction for the **target variable**. You can use these predictions to gain information about data where the value of the target variable is unknown — such as data the model was not trained on."
   ]
  },
  {
   "cell_type": "markdown",
   "metadata": {},
   "source": [
    "### Question 9 - Optimal Model\n",
    "\n",
    "* What maximum depth does the optimal model have? How does this result compare to your guess in **Question 6**?  \n",
    "\n",
    "Run the code block below to fit the decision tree regressor to the training data and produce an optimal model."
   ]
  },
  {
   "cell_type": "code",
   "execution_count": 10,
   "metadata": {
    "scrolled": true
   },
   "outputs": [
    {
     "name": "stdout",
     "output_type": "stream",
     "text": [
      "Parameter 'max_depth' is 4 for the optimal model.\n"
     ]
    }
   ],
   "source": [
    "# Fit the training data to the model using grid search\n",
    "reg = fit_model(X_train, y_train)\n",
    "\n",
    "\n",
    "\n",
    "# Produce the value for 'max_depth'\n",
    "print(\"Parameter 'max_depth' is {} for the optimal model.\".format(reg.get_params()['max_depth']))"
   ]
  },
  {
   "cell_type": "markdown",
   "metadata": {},
   "source": [
    "** Hint: ** The answer comes from the output of the code snipped above.\n",
    "\n",
    "**Answer: ** Parameter 'max_depth' is 4 for the optimal model.\n",
    "\n",
    "This actually differs from my guess. Looking at the graph I thought between 3 and 4 the validation score was going down and the model started overfitting, looking at it again now, the validation score seems to be >= with max_depth 4, compared to max_depth 3 while the training score increases with max_depth=4. "
   ]
  },
  {
   "cell_type": "markdown",
   "metadata": {},
   "source": [
    "### Question 10 - Predicting Selling Prices\n",
    "Imagine that you were a real estate agent in the Boston area looking to use this model to help price homes owned by your clients that they wish to sell. You have collected the following information from three of your clients:\n",
    "\n",
    "| Feature | Client 1 | Client 2 | Client 3 |\n",
    "| :---: | :---: | :---: | :---: |\n",
    "| Total number of rooms in home | 5 rooms | 4 rooms | 8 rooms |\n",
    "| Neighborhood poverty level (as %) | 17% | 32% | 3% |\n",
    "| Student-teacher ratio of nearby schools | 15-to-1 | 22-to-1 | 12-to-1 |\n",
    "\n",
    "* What price would you recommend each client sell his/her home at? \n",
    "* Do these prices seem reasonable given the values for the respective features? \n",
    "\n",
    "**Hint:** Use the statistics you calculated in the **Data Exploration** section to help justify your response.  Of the three clients, client 3 has has the biggest house, in the best public school neighborhood with the lowest poverty level; while client 2 has the smallest house, in a neighborhood with a relatively high poverty rate and not the best public schools.\n",
    "\n",
    "Run the code block below to have your optimized model make predictions for each client's home."
   ]
  },
  {
   "cell_type": "code",
   "execution_count": 11,
   "metadata": {},
   "outputs": [
    {
     "name": "stdout",
     "output_type": "stream",
     "text": [
      "Predicted selling price for Client 1's home: $420,622.22\n",
      "Predicted selling price for Client 2's home: $235,122.22\n",
      "Predicted selling price for Client 3's home: $896,280.00\n"
     ]
    }
   ],
   "source": [
    "# Produce a matrix for client data\n",
    "client_data = [[5, 17, 15], # Client 1\n",
    "               [4, 32, 22], # Client 2\n",
    "               [8, 3, 12]]  # Client 3\n",
    "\n",
    "# Show predictions\n",
    "for i, price in enumerate(reg.predict(client_data)):\n",
    "    print(\"Predicted selling price for Client {}'s home: ${:,.2f}\".format(i+1, price))"
   ]
  },
  {
   "cell_type": "code",
   "execution_count": 12,
   "metadata": {},
   "outputs": [
    {
     "name": "stdout",
     "output_type": "stream",
     "text": [
      "Rooms min: 3.561 median: 6.24028834356 max: 8.398\n",
      "Lstat min: 1.98 median: 12.9396319018 max: 37.97\n",
      "PtRatio min: 12.6 median: 18.5165644172 max: 22.0\n"
     ]
    }
   ],
   "source": [
    "#Additional stats to inform decisions on clients' house prices\n",
    "rooms = data['RM']\n",
    "lstat = data['LSTAT']\n",
    "ptratio = data['PTRATIO']\n",
    "\n",
    "print \"Rooms min: {} median: {} max: {}\".format(np.amin(rooms), np.mean(rooms), np.amax(rooms))\n",
    "print \"Lstat min: {} median: {} max: {}\".format(np.amin(lstat), np.mean(lstat), np.amax(lstat))\n",
    "print \"PtRatio min: {} median: {} max: {}\".format(np.amin(ptratio), np.mean(ptratio), np.amax(ptratio))\n",
    "\n"
   ]
  },
  {
   "cell_type": "markdown",
   "metadata": {},
   "source": [
    "**Answer: **\n",
    "\n",
    "\n",
    "\n",
    "The model predicts the following prices \n",
    "\n",
    "|  | Rooms | Lstat | PtRatio | Prices ($) |\n",
    "| :---: | :---: | :---: | :---: | :---: |\n",
    "| Min | 3.561 | 1.98 | 12.6 | 105,000.00 |\n",
    "| Median | 6.24 | 12.94 | 18.52 | 438,900.00 |\n",
    "| Max | 8.39 | 37.97 | 22 | 1,024,800.00 |\n",
    "\n",
    "\n",
    "\n",
    "** Client 1's home: $ 420,622.22 **\n",
    "The house sits just below the median houses, in terms of room numbers, poverty level is a bit higher than the median case but better than the max LSTAT, and Pupil/tutor ratio is a bit better than the median house, but not as good as the best houses. \n",
    "The predicted price sits close to the median, which seems a very reasonable position.\n",
    "\n",
    "\n",
    "** Client 2's home: $ 235,122.22 ** \n",
    "Number of rooms a bit better than the minimum, poverty close to the worse case (5% off), and number of pupils per tutor at the highest value in our dataset. The price sits between the median and the cheapest house, which seems a reflection of the data described above.\n",
    "\n",
    "** Client 3's home: $ 896,280.00 **\n",
    "Number of rooms at the abs of maximum value, poverty very close to the minimum as well as ptratio. The price is below maximum. more than average.\n",
    "\n",
    "Overall in these cases, it seems that the most influencing factor is the number of rooms. \n",
    "\n"
   ]
  },
  {
   "cell_type": "markdown",
   "metadata": {},
   "source": [
    "### Sensitivity\n",
    "An optimal model is not necessarily a robust model. Sometimes, a model is either too complex or too simple to sufficiently generalize to new data. Sometimes, a model could use a learning algorithm that is not appropriate for the structure of the data given. Other times, the data itself could be too noisy or contain too few samples to allow a model to adequately capture the target variable — i.e., the model is underfitted. \n",
    "\n",
    "**Run the code cell below to run the `fit_model` function ten times with different training and testing sets to see how the prediction for a specific client changes with respect to the data it's trained on.**"
   ]
  },
  {
   "cell_type": "code",
   "execution_count": 13,
   "metadata": {},
   "outputs": [
    {
     "name": "stdout",
     "output_type": "stream",
     "text": [
      "Trial 1: $391,183.33\n",
      "Trial 2: $419,700.00\n",
      "Trial 3: $415,800.00\n",
      "Trial 4: $420,622.22\n",
      "Trial 5: $418,377.27\n",
      "Trial 6: $411,931.58\n",
      "Trial 7: $399,663.16\n",
      "Trial 8: $407,232.00\n",
      "Trial 9: $351,577.61\n",
      "Trial 10: $413,700.00\n",
      "\n",
      "Range in prices: $69,044.61\n"
     ]
    }
   ],
   "source": [
    "vs.PredictTrials(features, prices, fit_model, client_data)"
   ]
  },
  {
   "cell_type": "markdown",
   "metadata": {},
   "source": [
    "### Question 11 - Applicability\n",
    "\n",
    "* In a few sentences, discuss whether the constructed model should or should not be used in a real-world setting.  \n",
    "\n",
    "**Hint:** Take a look at the range in prices as calculated in the code snippet above. Some questions to answering:\n",
    "- How relevant today is data that was collected from 1978? How important is inflation?\n",
    "- Are the features present in the data sufficient to describe a home? Do you think factors like quality of apppliances in the home, square feet of the plot area, presence of pool or not etc should factor in?\n",
    "- Is the model robust enough to make consistent predictions?\n",
    "- Would data collected in an urban city like Boston be applicable in a rural city?\n",
    "- Is it fair to judge the price of an individual home based on the characteristics of the entire neighborhood?"
   ]
  },
  {
   "cell_type": "markdown",
   "metadata": {},
   "source": [
    "**Answer: **\n",
    "\n",
    "The prediction of the model can vary by $75.000,00 (16%) depending on the data we choose to train it. It is a fairly big range of change for the data, but still the result from our model is a good indication of the price, and can be used to assist the estate agents, or clients selling the houses though not to make a decision. \n",
    "\n",
    "The data as it is though, might need to be adjusted as it was collected in 1978 and the prices should be adjusted with the inflation rate.\n",
    "\n",
    "\n",
    "It could be possible to add other features to the model such as criminality rate, plot area size, etc. to have a more precise estimate. We would have to run tests though to figure out which features really influence the prices and which don't. Independently of how many features we add though, the price of a house will always require an independent evaluation from our model to consider the current state of it, and the individual characteristics that our model doesn't account for. We can predict a reasonable price in the market, not the specific price of a house.\n",
    "\n",
    "**Conclusion** \n",
    "As it stands, with the current data and sensitivity I believe it's not appropriate to use the model in the real-world settings."
   ]
  },
  {
   "cell_type": "markdown",
   "metadata": {},
   "source": [
    "> **Note**: Once you have completed all of the code implementations and successfully answered each question above, you may finalize your work by exporting the iPython Notebook as an HTML document. You can do this by using the menu above and navigating to  \n",
    "**File -> Download as -> HTML (.html)**. Include the finished document along with this notebook as your submission."
   ]
  }
 ],
 "metadata": {
  "anaconda-cloud": {},
  "kernelspec": {
   "display_name": "Python 3",
   "language": "python",
   "name": "python3"
  },
  "language_info": {
   "codemirror_mode": {
    "name": "ipython",
    "version": 2
   },
   "file_extension": ".py",
   "mimetype": "text/x-python",
   "name": "python",
   "nbconvert_exporter": "python",
<<<<<<< HEAD
   "pygments_lexer": "ipython2",
   "version": "2.7.14"
=======
   "pygments_lexer": "ipython3",
   "version": "3.6.3"
>>>>>>> 1baaec7cad07065df94e0cad830925d7e53c5af7
  }
 },
 "nbformat": 4,
 "nbformat_minor": 1
}
